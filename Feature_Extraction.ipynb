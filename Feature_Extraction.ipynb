{
 "cells": [
  {
   "cell_type": "code",
   "execution_count": null,
   "id": "JzljrSvamf16",
   "metadata": {
    "colab": {
     "base_uri": "https://localhost:8080/"
    },
    "id": "JzljrSvamf16",
    "outputId": "bf5f31f7-63e7-4c5f-92f5-885fa15f0970"
   },
   "outputs": [
    {
     "name": "stdout",
     "output_type": "stream",
     "text": [
      "Looking in indexes: https://pypi.org/simple, https://us-python.pkg.dev/colab-wheels/public/simple/\n",
      "Requirement already satisfied: hmmlearn in /usr/local/lib/python3.10/dist-packages (0.3.0)\n",
      "Requirement already satisfied: numpy>=1.10 in /usr/local/lib/python3.10/dist-packages (from hmmlearn) (1.22.4)\n",
      "Requirement already satisfied: scikit-learn!=0.22.0,>=0.16 in /usr/local/lib/python3.10/dist-packages (from hmmlearn) (1.2.2)\n",
      "Requirement already satisfied: scipy>=0.19 in /usr/local/lib/python3.10/dist-packages (from hmmlearn) (1.10.1)\n",
      "Requirement already satisfied: threadpoolctl>=2.0.0 in /usr/local/lib/python3.10/dist-packages (from scikit-learn!=0.22.0,>=0.16->hmmlearn) (3.1.0)\n",
      "Requirement already satisfied: joblib>=1.1.1 in /usr/local/lib/python3.10/dist-packages (from scikit-learn!=0.22.0,>=0.16->hmmlearn) (1.2.0)\n"
     ]
    }
   ],
   "source": [
    "!pip install hmmlearn"
   ]
  },
  {
   "cell_type": "code",
   "execution_count": 42,
   "id": "zxdQD65euCZ3",
   "metadata": {
    "id": "zxdQD65euCZ3"
   },
   "outputs": [],
   "source": [
    "import pandas as pd\n",
    "import numpy as np\n",
    "import seaborn as sns\n",
    "from sklearn.preprocessing import StandardScaler\n",
    "import matplotlib.pyplot as plt\n",
    "import os\n",
    "from PIL import Image\n",
    "# import tensorflow as tf\n",
    "from sklearn import decomposition\n",
    "import cv2\n",
    "from sklearn.model_selection import train_test_split\n",
    "from hmmlearn import hmm\n",
    "from sklearn.ensemble import RandomForestClassifier\n",
    "from sklearn.svm import SVC\n",
    "from sklearn.pipeline import make_pipeline\n",
    "from sklearn.metrics import classification_report, confusion_matrix, accuracy_score"
   ]
  },
  {
   "cell_type": "code",
   "execution_count": 2,
   "id": "jb2gwihAuCZ4",
   "metadata": {
    "id": "jb2gwihAuCZ4"
   },
   "outputs": [],
   "source": [
    "LABELS =  ['call_me', 'fingers_crossed', 'okay', 'paper', 'peace', 'rock', 'rock_on', 'scissor', 'thumbs', 'up']\n",
    "LABELS_TO_INDEX = {k: v for v, k in enumerate(LABELS)}\n",
    "INDEX_TO_LABELS = {k: v for k, v in enumerate(LABELS)}"
   ]
  },
  {
   "cell_type": "code",
   "execution_count": 7,
   "id": "BCNYGsmWuTJD",
   "metadata": {
    "id": "BCNYGsmWuTJD"
   },
   "outputs": [
    {
     "name": "stderr",
     "output_type": "stream",
     "text": [
      "'unzip' is not recognized as an internal or external command,\n",
      "operable program or batch file.\n"
     ]
    }
   ],
   "source": [
    "# if no dataset folder, extract it\n",
    "if not os.path.exists('datasets/'):\n",
    "    !unzip -q datasets.zip"
   ]
  },
  {
   "cell_type": "code",
   "execution_count": 11,
   "id": "XessZs0ZuCZ5",
   "metadata": {
    "colab": {
     "base_uri": "https://localhost:8080/"
    },
    "id": "XessZs0ZuCZ5",
    "outputId": "063955fc-317a-4a49-b06c-b53f00f7b1b5"
   },
   "outputs": [
    {
     "name": "stdout",
     "output_type": "stream",
     "text": [
      "(5243, 195, 240)\n"
     ]
    }
   ],
   "source": [
    "images = []\n",
    "train_labels = []\n",
    "for label_name in LABELS:\n",
    "    folder_path = 'datasets/HandGesture/images/' + label_name\n",
    "    for filename in os.listdir(folder_path):\n",
    "        img = Image.open(os.path.join(folder_path, filename))\n",
    "        if img.mode != 'L':\n",
    "            img = img.convert('L')\n",
    "        img_arr = np.array(img)\n",
    "        images.append(img_arr)\n",
    "        train_labels.append(label_name)\n",
    "images = np.array(images)\n",
    "print(images.shape)"
   ]
  },
  {
   "cell_type": "code",
   "execution_count": 12,
   "id": "nHvpzhiLuCZ7",
   "metadata": {
    "id": "nHvpzhiLuCZ7"
   },
   "outputs": [],
   "source": [
    "img_shape = images[0].shape                         # 195 x 240\n",
    "X = images.reshape(images.shape[0], -1)             # flatten 195 x 240 image\n",
    "y = np.vectorize(LABELS_TO_INDEX.get)(train_labels) # convert label name to index (call_me -> 0)"
   ]
  },
  {
   "cell_type": "code",
   "execution_count": 31,
   "id": "A80pChwvqf8h",
   "metadata": {
    "colab": {
     "base_uri": "https://localhost:8080/"
    },
    "id": "A80pChwvqf8h",
    "outputId": "be11f058-1605-4711-a6a1-b000ec45e891"
   },
   "outputs": [
    {
     "name": "stdout",
     "output_type": "stream",
     "text": [
      "X_train (3670, 46800)\n",
      "y_train (3670,)\n",
      "X_test (1573, 46800)\n",
      "y_test (1573,)\n"
     ]
    }
   ],
   "source": [
    "X_train, X_test, y_train, y_test = train_test_split(X, y, test_size=0.3, random_state=0)\n",
    "print('X_train', X_train.shape)\n",
    "print('y_train', y_train.shape)\n",
    "print('X_test', X_test.shape)\n",
    "print('y_test', y_test.shape)"
   ]
  },
  {
   "attachments": {},
   "cell_type": "markdown",
   "id": "oyHJZMXfuCZ8",
   "metadata": {
    "id": "oyHJZMXfuCZ8"
   },
   "source": [
    "# Feature Extraction using PCA"
   ]
  },
  {
   "cell_type": "code",
   "execution_count": 15,
   "id": "5m4JXkK-uCZ-",
   "metadata": {
    "colab": {
     "base_uri": "https://localhost:8080/"
    },
    "id": "5m4JXkK-uCZ-",
    "outputId": "3d3aff10-534a-4568-be4d-0c1f967cbe55"
   },
   "outputs": [
    {
     "data": {
      "text/plain": [
       "(5243, 46800)"
      ]
     },
     "execution_count": 15,
     "metadata": {},
     "output_type": "execute_result"
    }
   ],
   "source": [
    "standardized_scalar = StandardScaler()\n",
    "standardized_data = standardized_scalar.fit_transform(X)\n",
    "standardized_data.shape"
   ]
  },
  {
   "cell_type": "code",
   "execution_count": null,
   "id": "0ZXukIshuCZ-",
   "metadata": {
    "id": "0ZXukIshuCZ-"
   },
   "outputs": [],
   "source": [
    "# cov_matrix = np.matmul(standardized_data.T, standardized_data)\n",
    "# cov_matrix.shape"
   ]
  },
  {
   "cell_type": "code",
   "execution_count": null,
   "id": "IEWAGX9euCaA",
   "metadata": {
    "id": "IEWAGX9euCaA"
   },
   "outputs": [],
   "source": [
    "# Warning: this takes 6 minutes to run\n",
    "pca = decomposition.PCA(n_components = 0.95) # 95% of variance\n",
    "principal_components = pca.fit_transform(standardized_data)"
   ]
  },
  {
   "cell_type": "code",
   "execution_count": null,
   "id": "62840d3d",
   "metadata": {
    "colab": {
     "base_uri": "https://localhost:8080/"
    },
    "id": "62840d3d",
    "outputId": "0c111ca6-d855-43bb-fa8a-ffd43c7a0b22"
   },
   "outputs": [
    {
     "name": "stdout",
     "output_type": "stream",
     "text": [
      "Total Variance: 0.9500339647447117\n",
      "Number of Components: 908\n",
      "(5243, 908)\n"
     ]
    }
   ],
   "source": [
    "print('Total Variance:', sum(pca.explained_variance_ratio_))\n",
    "print('Number of Components:', pca.n_components_)\n",
    "print(principal_components.shape)"
   ]
  },
  {
   "cell_type": "code",
   "execution_count": null,
   "id": "46xUU7dsuCaC",
   "metadata": {
    "colab": {
     "base_uri": "https://localhost:8080/",
     "height": 1000
    },
    "id": "46xUU7dsuCaC",
    "outputId": "c84cf0f2-84e7-4d41-af41-0eb83394aac5"
   },
   "outputs": [
    {
     "data": {
      "image/png": "[encoded data removed]",
      "text/plain": [
       "<Figure size 1000x1000 with 1 Axes>"
      ]
     },
     "metadata": {},
     "output_type": "display_data"
    }
   ],
   "source": [
    "plt.figure(figsize=(10, 10))\n",
    "\n",
    "colors = plt.cm.tab10(np.linspace(0, 1, len(LABELS)))\n",
    "\n",
    "for label, color in zip(LABELS, colors):\n",
    "    indices = [i for i, l in enumerate(LABELS) if l == label]\n",
    "    plt.scatter(principal_components[indices, 0], principal_components[indices, 1], \n",
    "                c=[color], label=label, edgecolors='k', alpha=0.8, s=100)\n",
    "\n",
    "plt.xlabel('First Principal Component', fontsize='16')\n",
    "plt.ylabel('Second Principal Component', fontsize='16')\n",
    "plt.legend(loc='best', fontsize='16')\n",
    "plt.tight_layout()\n",
    "plt.show()"
   ]
  },
  {
   "cell_type": "code",
   "execution_count": null,
   "id": "acee8edc",
   "metadata": {
    "id": "acee8edc"
   },
   "outputs": [],
   "source": [
    "X_train, X_test, y_train, y_test = train_test_split(X, train_labels, test_size=0.3, random_state=0)"
   ]
  },
  {
   "attachments": {},
   "cell_type": "markdown",
   "id": "KBt4r4KyuCaD",
   "metadata": {
    "id": "KBt4r4KyuCaD"
   },
   "source": [
    "# Feature Extration with HOG"
   ]
  },
  {
   "cell_type": "code",
   "execution_count": null,
   "id": "RJN-NjNauCaD",
   "metadata": {
    "colab": {
     "base_uri": "https://localhost:8080/",
     "height": 418
    },
    "id": "RJN-NjNauCaD",
    "outputId": "5347eba4-4fd9-4723-80a3-18de499a9d0b"
   },
   "outputs": [
    {
     "ename": "KeyboardInterrupt",
     "evalue": "ignored",
     "output_type": "error",
     "traceback": [
      "\u001b[0;31m---------------------------------------------------------------------------\u001b[0m",
      "\u001b[0;31mKeyboardInterrupt\u001b[0m                         Traceback (most recent call last)",
      "\u001b[0;32m<ipython-input-16-bf2c328d1152>\u001b[0m in \u001b[0;36m<cell line: 16>\u001b[0;34m()\u001b[0m\n\u001b[1;32m     17\u001b[0m     \u001b[0mimg_resized\u001b[0m \u001b[0;34m=\u001b[0m \u001b[0mresize\u001b[0m\u001b[0;34m(\u001b[0m\u001b[0mimages\u001b[0m\u001b[0;34m[\u001b[0m\u001b[0mi\u001b[0m\u001b[0;34m]\u001b[0m\u001b[0;34m,\u001b[0m \u001b[0;34m(\u001b[0m\u001b[0;36m100\u001b[0m\u001b[0;34m,\u001b[0m\u001b[0;36m100\u001b[0m\u001b[0;34m)\u001b[0m\u001b[0;34m)\u001b[0m\u001b[0;34m\u001b[0m\u001b[0;34m\u001b[0m\u001b[0m\n\u001b[1;32m     18\u001b[0m \u001b[0;34m\u001b[0m\u001b[0m\n\u001b[0;32m---> 19\u001b[0;31m     fd, hog_img = hog(img_resized, orientations=9, pixels_per_cell=(8, 8), \n\u001b[0m\u001b[1;32m     20\u001b[0m                         cells_per_block=(2, 2), visualize=True)\n\u001b[1;32m     21\u001b[0m \u001b[0;34m\u001b[0m\u001b[0m\n",
      "\u001b[0;32m/usr/local/lib/python3.10/dist-packages/skimage/_shared/utils.py\u001b[0m in \u001b[0;36mfixed_func\u001b[0;34m(*args, **kwargs)\u001b[0m\n\u001b[1;32m    392\u001b[0m \u001b[0;34m\u001b[0m\u001b[0m\n\u001b[1;32m    393\u001b[0m             \u001b[0;32mif\u001b[0m \u001b[0mchannel_axis\u001b[0m \u001b[0;32mis\u001b[0m \u001b[0;32mNone\u001b[0m\u001b[0;34m:\u001b[0m\u001b[0;34m\u001b[0m\u001b[0;34m\u001b[0m\u001b[0m\n\u001b[0;32m--> 394\u001b[0;31m                 \u001b[0;32mreturn\u001b[0m \u001b[0mfunc\u001b[0m\u001b[0;34m(\u001b[0m\u001b[0;34m*\u001b[0m\u001b[0margs\u001b[0m\u001b[0;34m,\u001b[0m \u001b[0;34m**\u001b[0m\u001b[0mkwargs\u001b[0m\u001b[0;34m)\u001b[0m\u001b[0;34m\u001b[0m\u001b[0;34m\u001b[0m\u001b[0m\n\u001b[0m\u001b[1;32m    395\u001b[0m \u001b[0;34m\u001b[0m\u001b[0m\n\u001b[1;32m    396\u001b[0m             \u001b[0;31m# TODO: convert scalars to a tuple in anticipation of eventually\u001b[0m\u001b[0;34m\u001b[0m\u001b[0;34m\u001b[0m\u001b[0m\n",
      "\u001b[0;32m/usr/local/lib/python3.10/dist-packages/skimage/_shared/utils.py\u001b[0m in \u001b[0;36mfixed_func\u001b[0;34m(*args, **kwargs)\u001b[0m\n\u001b[1;32m    346\u001b[0m \u001b[0;34m\u001b[0m\u001b[0m\n\u001b[1;32m    347\u001b[0m             \u001b[0;31m# Call the function with the fixed arguments\u001b[0m\u001b[0;34m\u001b[0m\u001b[0;34m\u001b[0m\u001b[0m\n\u001b[0;32m--> 348\u001b[0;31m             \u001b[0;32mreturn\u001b[0m \u001b[0mfunc\u001b[0m\u001b[0;34m(\u001b[0m\u001b[0;34m*\u001b[0m\u001b[0margs\u001b[0m\u001b[0;34m,\u001b[0m \u001b[0;34m**\u001b[0m\u001b[0mkwargs\u001b[0m\u001b[0;34m)\u001b[0m\u001b[0;34m\u001b[0m\u001b[0;34m\u001b[0m\u001b[0m\n\u001b[0m\u001b[1;32m    349\u001b[0m \u001b[0;34m\u001b[0m\u001b[0m\n\u001b[1;32m    350\u001b[0m         \u001b[0;32mif\u001b[0m \u001b[0mfunc\u001b[0m\u001b[0;34m.\u001b[0m\u001b[0m__doc__\u001b[0m \u001b[0;32mis\u001b[0m \u001b[0;32mnot\u001b[0m \u001b[0;32mNone\u001b[0m\u001b[0;34m:\u001b[0m\u001b[0;34m\u001b[0m\u001b[0;34m\u001b[0m\u001b[0m\n",
      "\u001b[0;32m/usr/local/lib/python3.10/dist-packages/skimage/feature/_hog.py\u001b[0m in \u001b[0;36mhog\u001b[0;34m(image, orientations, pixels_per_cell, cells_per_block, block_norm, visualize, transform_sqrt, feature_vector, multichannel, channel_axis)\u001b[0m\n\u001b[1;32m    263\u001b[0m                                        \u001b[0mint\u001b[0m\u001b[0;34m(\u001b[0m\u001b[0mcentre\u001b[0m\u001b[0;34m[\u001b[0m\u001b[0;36m0\u001b[0m\u001b[0;34m]\u001b[0m \u001b[0;34m+\u001b[0m \u001b[0mdc\u001b[0m\u001b[0;34m)\u001b[0m\u001b[0;34m,\u001b[0m\u001b[0;34m\u001b[0m\u001b[0;34m\u001b[0m\u001b[0m\n\u001b[1;32m    264\u001b[0m                                        int(centre[1] - dr))\n\u001b[0;32m--> 265\u001b[0;31m                     \u001b[0mhog_image\u001b[0m\u001b[0;34m[\u001b[0m\u001b[0mrr\u001b[0m\u001b[0;34m,\u001b[0m \u001b[0mcc\u001b[0m\u001b[0;34m]\u001b[0m \u001b[0;34m+=\u001b[0m \u001b[0morientation_histogram\u001b[0m\u001b[0;34m[\u001b[0m\u001b[0mr\u001b[0m\u001b[0;34m,\u001b[0m \u001b[0mc\u001b[0m\u001b[0;34m,\u001b[0m \u001b[0mo\u001b[0m\u001b[0;34m]\u001b[0m\u001b[0;34m\u001b[0m\u001b[0;34m\u001b[0m\u001b[0m\n\u001b[0m\u001b[1;32m    266\u001b[0m \u001b[0;34m\u001b[0m\u001b[0m\n\u001b[1;32m    267\u001b[0m     \"\"\"\n",
      "\u001b[0;31mKeyboardInterrupt\u001b[0m: "
     ]
    }
   ],
   "source": [
    "from skimage.io import imread, imshow\n",
    "from skimage.transform import resize\n",
    "from skimage.feature import hog\n",
    "from skimage import data, exposure\n",
    "import matplotlib.pyplot as plt\n",
    "import io\n",
    "\n",
    "\n",
    "fds = []\n",
    "hog_img_list = []\n",
    "ori_img_list = []\n",
    "\n",
    "max_hog_display = 10  # Display 10 HOG images, change it if different number of HOG images is desired\n",
    "count = 0\n",
    "\n",
    "for i in range(len(images)):\n",
    "    img_resized = resize(images[i], (100,100)) \n",
    "\n",
    "    fd, hog_img = hog(img_resized, orientations=9, pixels_per_cell=(8, 8), \n",
    "                        cells_per_block=(2, 2), visualize=True)\n",
    "    \n",
    "    fds.append(fd)\n",
    "    \n",
    "    if count < max_hog_display:\n",
    "        hog_img_list.append(hog_img)\n",
    "        ori_img_list.append(img_resized)\n",
    "    \n",
    "    count +=1\n",
    "    \n",
    "\n",
    "for i in range(len(hog_img_list)):\n",
    "\n",
    "    fig, (ax1, ax2) = plt.subplots(1, 2, figsize=(10, 10), sharex=True, sharey=True) \n",
    "\n",
    "    ax1.imshow(ori_img_list[i], cmap=plt.cm.gray) \n",
    "    ax1.set_title('Original image') \n",
    "\n",
    "    # Rescale histogram\n",
    "    hog_image_rescaled = exposure.rescale_intensity(hog_img_list[i], in_range=(0, 10)) \n",
    "\n",
    "    ax2.imshow(hog_image_rescaled, cmap=plt.cm.gray) \n",
    "    ax2.set_title('HOG')\n",
    "\n",
    "    plt.show()"
   ]
  },
  {
   "attachments": {},
   "cell_type": "markdown",
   "id": "d1122bf5",
   "metadata": {
    "id": "d1122bf5"
   },
   "source": [
    "# Classification Using K-Means"
   ]
  },
  {
   "cell_type": "code",
   "execution_count": null,
   "id": "XlXeYYEluCaF",
   "metadata": {
    "id": "XlXeYYEluCaF"
   },
   "outputs": [],
   "source": [
    "img = images[0] # warning: this is a uint8\n",
    "plt.imshow(img, cmap=plt.cm.gray)\n",
    "\n",
    "from sklearn.cluster import KMeans, MiniBatchKMeans\n",
    "\n",
    "# Perform K Means\n",
    "K = 100 # begin with 10 (number of gesture labels), increase to much much more as necessary\n",
    "kmeans = MiniBatchKMeans(n_clusters = K)\n",
    "kmeans.fit(X_train)"
   ]
  },
  {
   "cell_type": "code",
   "execution_count": null,
   "id": "GJU4iWLluCaF",
   "metadata": {
    "id": "GJU4iWLluCaF"
   },
   "outputs": [],
   "source": [
    "print(kmeans.labels_) # cluster labels for each training image\n",
    "print(kmeans.cluster_centers_.shape) # K clusters x 46800 pixels\n",
    "\n",
    "def visualize_all_clusters(kmeans):\n",
    "    fig=plt.figure()\n",
    "    columns = 10\n",
    "    rows = 10\n",
    "\n",
    "    for i in range(1, columns*rows + 1):\n",
    "        center = kmeans.cluster_centers_[i-1].reshape((img_shape))\n",
    "        fig.add_subplot(rows, columns, i)\n",
    "        plt.axis('off')\n",
    "        plt.imshow(center)\n",
    "\n",
    "# for each KMeans cluster, get the most probable label\n",
    "# return mapping from cluster to label\n",
    "def cluster_to_index(cluster_labels, y_train):\n",
    "    index_labels = {}\n",
    "    for i in range(len(np.unique(kmeans.labels_))):\n",
    "        index = np.where(cluster_labels == i,1,0)\n",
    "        num = np.bincount(y_train[index==1]).argmax()\n",
    "        index_labels[i] = num\n",
    "    return index_labels\n",
    "\n",
    "CLUSTERS_TO_INDEX = cluster_to_index(kmeans.labels_, y_train)\n",
    "print(CLUSTERS_TO_INDEX)\n",
    "\n",
    "visualize_all_clusters(kmeans)"
   ]
  },
  {
   "cell_type": "code",
   "execution_count": null,
   "id": "h19OCzoKL0HP",
   "metadata": {
    "id": "h19OCzoKL0HP"
   },
   "outputs": [],
   "source": [
    "# Get test results\n",
    "from sklearn.metrics import accuracy_score, precision_score, recall_score, f1_score\n",
    "\n",
    "cluster_ids = kmeans.predict(X_test)\n",
    "y_pred = np.vectorize(CLUSTERS_TO_INDEX.get)(cluster_ids)\n",
    "\n",
    "print('Accuracy:',  accuracy_score(y_test, y_pred))\n",
    "print('Precision:', precision_score(y_test, y_pred, average='micro'))\n",
    "print('Recall:',    recall_score(y_test, y_pred, average='micro'))\n",
    "print('F1:',        f1_score(y_test, y_pred, average='micro'))"
   ]
  },
  {
   "cell_type": "code",
   "execution_count": null,
   "id": "kIJzmzEgLhWn",
   "metadata": {
    "id": "kIJzmzEgLhWn"
   },
   "outputs": [],
   "source": [
    "# take 10 test images, predict them, and display them\n",
    "N = 10\n",
    "fig, axs = plt.subplots(N, 2, sharex='all', sharey='all', figsize=(10, 10*N))\n",
    "\n",
    "imgs = X_test[:N]\n",
    "cluster_ids = kmeans.predict(imgs) # cluster index\n",
    "\n",
    "for i in range(N):\n",
    "    img = imgs[i]\n",
    "    cluster_id = cluster_ids[i]\n",
    "    cluster = kmeans.cluster_centers_[cluster_id].reshape((img_shape)) # cluster image\n",
    "\n",
    "    true_label = INDEX_TO_LABELS[y_test[i]]\n",
    "    pred_label = INDEX_TO_LABELS[CLUSTERS_TO_INDEX[cluster_id]]\n",
    "\n",
    "    axs[i, 0].imshow(cluster, cmap=plt.cm.gray)\n",
    "    axs[i, 0].set_title('Prediction: {}'.format(pred_label))\n",
    "\n",
    "    axs[i, 1].imshow(img.reshape((img_shape)), cmap=plt.cm.gray)\n",
    "    axs[i, 1].set_title('Actual: {}'.format(true_label))"
   ]
  },
  {
   "attachments": {},
   "cell_type": "markdown",
   "id": "9ae83711",
   "metadata": {
    "id": "9ae83711"
   },
   "source": [
    "# Prediction using Random Forest"
   ]
  },
  {
   "cell_type": "code",
   "execution_count": null,
   "id": "d9dd296c",
   "metadata": {
    "id": "d9dd296c"
   },
   "outputs": [],
   "source": [
    "def resize_image(image_array, target_size=(32, 32)):\n",
    "    image = Image.fromarray(image_array)\n",
    "    return np.array(image.resize(target_size, Image.ANTIALIAS))\n",
    "\n",
    "resized_images = [resize_image(img) for img in images]\n",
    "resized_images_array = np.array(resized_images)"
   ]
  },
  {
   "cell_type": "code",
   "execution_count": null,
   "id": "c7c25bb5",
   "metadata": {
    "id": "c7c25bb5"
   },
   "outputs": [],
   "source": [
    "X = resized_images_array.reshape(resized_images_array.shape[0], -1)\n",
    "X = standardized_scalar.fit_transform(X)"
   ]
  },
  {
   "cell_type": "code",
   "execution_count": null,
   "id": "bfcff86e",
   "metadata": {
    "id": "bfcff86e"
   },
   "outputs": [],
   "source": [
    "X_train, X_test, y_train, y_test = train_test_split(X, y, test_size=0.3, random_state=0)"
   ]
  },
  {
   "cell_type": "code",
   "execution_count": null,
   "id": "2865f83d",
   "metadata": {
    "colab": {
     "base_uri": "https://localhost:8080/",
     "height": 75
    },
    "id": "2865f83d",
    "outputId": "1c2817a7-e1c9-4e31-c633-9142957acae1"
   },
   "outputs": [
    {
     "data": {
      "text/html": [
       "<style>#sk-container-id-7 {color: black;background-color: white;}#sk-container-id-7 pre{padding: 0;}#sk-container-id-7 div.sk-toggleable {background-color: white;}#sk-container-id-7 label.sk-toggleable__label {cursor: pointer;display: block;width: 100%;margin-bottom: 0;padding: 0.3em;box-sizing: border-box;text-align: center;}#sk-container-id-7 label.sk-toggleable__label-arrow:before {content: \"▸\";float: left;margin-right: 0.25em;color: #696969;}#sk-container-id-7 label.sk-toggleable__label-arrow:hover:before {color: black;}#sk-container-id-7 div.sk-estimator:hover label.sk-toggleable__label-arrow:before {color: black;}#sk-container-id-7 div.sk-toggleable__content {max-height: 0;max-width: 0;overflow: hidden;text-align: left;background-color: #f0f8ff;}#sk-container-id-7 div.sk-toggleable__content pre {margin: 0.2em;color: black;border-radius: 0.25em;background-color: #f0f8ff;}#sk-container-id-7 input.sk-toggleable__control:checked~div.sk-toggleable__content {max-height: 200px;max-width: 100%;overflow: auto;}#sk-container-id-7 input.sk-toggleable__control:checked~label.sk-toggleable__label-arrow:before {content: \"▾\";}#sk-container-id-7 div.sk-estimator input.sk-toggleable__control:checked~label.sk-toggleable__label {background-color: #d4ebff;}#sk-container-id-7 div.sk-label input.sk-toggleable__control:checked~label.sk-toggleable__label {background-color: #d4ebff;}#sk-container-id-7 input.sk-hidden--visually {border: 0;clip: rect(1px 1px 1px 1px);clip: rect(1px, 1px, 1px, 1px);height: 1px;margin: -1px;overflow: hidden;padding: 0;position: absolute;width: 1px;}#sk-container-id-7 div.sk-estimator {font-family: monospace;background-color: #f0f8ff;border: 1px dotted black;border-radius: 0.25em;box-sizing: border-box;margin-bottom: 0.5em;}#sk-container-id-7 div.sk-estimator:hover {background-color: #d4ebff;}#sk-container-id-7 div.sk-parallel-item::after {content: \"\";width: 100%;border-bottom: 1px solid gray;flex-grow: 1;}#sk-container-id-7 div.sk-label:hover label.sk-toggleable__label {background-color: #d4ebff;}#sk-container-id-7 div.sk-serial::before {content: \"\";position: absolute;border-left: 1px solid gray;box-sizing: border-box;top: 0;bottom: 0;left: 50%;z-index: 0;}#sk-container-id-7 div.sk-serial {display: flex;flex-direction: column;align-items: center;background-color: white;padding-right: 0.2em;padding-left: 0.2em;position: relative;}#sk-container-id-7 div.sk-item {position: relative;z-index: 1;}#sk-container-id-7 div.sk-parallel {display: flex;align-items: stretch;justify-content: center;background-color: white;position: relative;}#sk-container-id-7 div.sk-item::before, #sk-container-id-7 div.sk-parallel-item::before {content: \"\";position: absolute;border-left: 1px solid gray;box-sizing: border-box;top: 0;bottom: 0;left: 50%;z-index: -1;}#sk-container-id-7 div.sk-parallel-item {display: flex;flex-direction: column;z-index: 1;position: relative;background-color: white;}#sk-container-id-7 div.sk-parallel-item:first-child::after {align-self: flex-end;width: 50%;}#sk-container-id-7 div.sk-parallel-item:last-child::after {align-self: flex-start;width: 50%;}#sk-container-id-7 div.sk-parallel-item:only-child::after {width: 0;}#sk-container-id-7 div.sk-dashed-wrapped {border: 1px dashed gray;margin: 0 0.4em 0.5em 0.4em;box-sizing: border-box;padding-bottom: 0.4em;background-color: white;}#sk-container-id-7 div.sk-label label {font-family: monospace;font-weight: bold;display: inline-block;line-height: 1.2em;}#sk-container-id-7 div.sk-label-container {text-align: center;}#sk-container-id-7 div.sk-container {/* jupyter's `normalize.less` sets `[hidden] { display: none; }` but bootstrap.min.css set `[hidden] { display: none !important; }` so we also need the `!important` here to be able to override the default hidden behavior on the sphinx rendered scikit-learn.org. See: https://github.com/scikit-learn/scikit-learn/issues/21755 */display: inline-block !important;position: relative;}#sk-container-id-7 div.sk-text-repr-fallback {display: none;}</style><div id=\"sk-container-id-7\" class=\"sk-top-container\"><div class=\"sk-text-repr-fallback\"><pre>RandomForestClassifier(random_state=42)</pre><b>In a Jupyter environment, please rerun this cell to show the HTML representation or trust the notebook. <br />On GitHub, the HTML representation is unable to render, please try loading this page with nbviewer.org.</b></div><div class=\"sk-container\" hidden><div class=\"sk-item\"><div class=\"sk-estimator sk-toggleable\"><input class=\"sk-toggleable__control sk-hidden--visually\" id=\"sk-estimator-id-7\" type=\"checkbox\" checked><label for=\"sk-estimator-id-7\" class=\"sk-toggleable__label sk-toggleable__label-arrow\">RandomForestClassifier</label><div class=\"sk-toggleable__content\"><pre>RandomForestClassifier(random_state=42)</pre></div></div></div></div></div>"
      ],
      "text/plain": [
       "RandomForestClassifier(random_state=42)"
      ]
     },
     "execution_count": 73,
     "metadata": {},
     "output_type": "execute_result"
    }
   ],
   "source": [
    "rf_classifier = RandomForestClassifier(n_estimators=100, random_state=42)\n",
    "rf_classifier.fit(X_train, y_train)"
   ]
  },
  {
   "cell_type": "code",
   "execution_count": null,
   "id": "e7b51eb5",
   "metadata": {
    "id": "e7b51eb5"
   },
   "outputs": [],
   "source": [
    "y_pred = rf_classifier.predict(X_test)"
   ]
  },
  {
   "cell_type": "code",
   "execution_count": null,
   "id": "6fead04c",
   "metadata": {
    "colab": {
     "base_uri": "https://localhost:8080/"
    },
    "id": "6fead04c",
    "outputId": "6f1748ae-8489-463c-add3-2cd203d15b8d"
   },
   "outputs": [
    {
     "name": "stdout",
     "output_type": "stream",
     "text": [
      "Classification Report:\n",
      "               precision    recall  f1-score   support\n",
      "\n",
      "           0       0.92      0.97      0.95       155\n",
      "           1       0.83      0.93      0.88       149\n",
      "           2       0.86      0.86      0.86       152\n",
      "           3       0.86      0.66      0.75       164\n",
      "           4       0.77      0.84      0.80       148\n",
      "           5       0.89      0.88      0.88       159\n",
      "           6       0.94      0.92      0.93       151\n",
      "           7       0.83      0.83      0.83       157\n",
      "           8       0.94      0.97      0.96       176\n",
      "           9       0.96      0.93      0.94       162\n",
      "\n",
      "    accuracy                           0.88      1573\n",
      "   macro avg       0.88      0.88      0.88      1573\n",
      "weighted avg       0.88      0.88      0.88      1573\n",
      "\n",
      "Confusion Matrix:\n",
      " [[151   0   0   0   0   0   0   0   4   0]\n",
      " [  0 138   0   0   4   1   3   3   0   0]\n",
      " [  0   0 130  14   0   6   0   1   0   1]\n",
      " [  0   3  21 109  15   3   1   7   1   4]\n",
      " [  0  10   0   0 125   1   2   9   1   0]\n",
      " [  2   4   1   0   3 140   1   5   1   2]\n",
      " [  1   1   0   2   6   1 139   0   1   0]\n",
      " [  4   5   0   1   9   4   1 130   3   0]\n",
      " [  5   0   0   0   0   0   0   0 171   0]\n",
      " [  1   5   0   1   1   2   1   1   0 150]]\n",
      "Accuracy: 0.8792116973935156\n"
     ]
    }
   ],
   "source": [
    "print(\"Classification Report:\\n\", classification_report(y_test, y_pred))\n",
    "print(\"Confusion Matrix:\\n\", confusion_matrix(y_test, y_pred))\n",
    "print(\"Accuracy:\", accuracy_score(y_test, y_pred))"
   ]
  },
  {
   "attachments": {},
   "cell_type": "markdown",
   "id": "L8XZYRNxzMde",
   "metadata": {
    "id": "L8XZYRNxzMde"
   },
   "source": [
    "# Prediction using Gradient Boosting"
   ]
  },
  {
   "cell_type": "code",
   "execution_count": null,
   "id": "cea6806f",
   "metadata": {
    "colab": {
     "background_save": true
    },
    "id": "cea6806f",
    "outputId": "d8abcbd4-acb4-4398-bcd9-27ac31742a90"
   },
   "outputs": [
    {
     "name": "stdout",
     "output_type": "stream",
     "text": [
      "Classification Report:\n",
      "               precision    recall  f1-score   support\n",
      "\n",
      "           0       0.84      0.86      0.85       155\n",
      "           1       0.81      0.78      0.79       149\n",
      "           2       0.68      0.72      0.70       152\n",
      "           3       0.69      0.54      0.60       164\n",
      "           4       0.69      0.78      0.73       148\n",
      "           5       0.89      0.86      0.87       159\n",
      "           6       0.86      0.88      0.87       151\n",
      "           7       0.65      0.69      0.67       157\n",
      "           8       0.87      0.89      0.88       176\n",
      "           9       0.85      0.83      0.84       162\n",
      "\n",
      "    accuracy                           0.78      1573\n",
      "   macro avg       0.78      0.78      0.78      1573\n",
      "weighted avg       0.79      0.78      0.78      1573\n",
      "\n",
      "Confusion Matrix:\n",
      " [[134   0   4   2   0   1   1   4   9   0]\n",
      " [  0 116   1   2  12   0   4  10   4   0]\n",
      " [  3   0 110  20   2   7   2   1   0   7]\n",
      " [  1   3  34  88  13   2   5  13   0   5]\n",
      " [  0   5   1   2 116   2   6  14   0   2]\n",
      " [  1   1   1   1   6 136   0   9   0   4]\n",
      " [  1   2   4   6   2   0 133   0   0   3]\n",
      " [  6   5   4   4  14   3   1 109   9   2]\n",
      " [ 14   4   0   1   0   0   0   0 157   0]\n",
      " [  0   7   3   1   4   1   3   7   1 135]]\n",
      "Accuracy: 0.7844882390336936\n"
     ]
    }
   ],
   "source": [
    "from sklearn.ensemble import GradientBoostingClassifier\n",
    "\n",
    "# X = resized_images_array.reshape(resized_images_array.shape[0], -1)\n",
    "X = principal_components\n",
    "X = standardized_scalar.fit_transform(X)\n",
    "X_train, X_test, y_train, y_test = train_test_split(X, y, test_size=0.3, random_state=0)\n",
    "\n",
    "clf = GradientBoostingClassifier(n_estimators=100, learning_rate=0.1, random_state=42)\n",
    "clf.fit(X_train, y_train) # takes 6 min!\n",
    "\n",
    "y_pred = clf.predict(X_test)\n",
    "\n",
    "print(\"Classification Report:\\n\", classification_report(y_test, y_pred))\n",
    "print(\"Confusion Matrix:\\n\", confusion_matrix(y_test, y_pred))\n",
    "print(\"Accuracy:\", accuracy_score(y_test, y_pred))"
   ]
  },
  {
   "attachments": {},
   "cell_type": "markdown",
   "id": "f9728ee3",
   "metadata": {},
   "source": [
    "# Prediction using SVM"
   ]
  },
  {
   "cell_type": "code",
   "execution_count": null,
   "id": "fd333f7a",
   "metadata": {},
   "outputs": [],
   "source": [
    "components_num = 908\n",
    "pca = decomposition.PCA(n_components = components_num)\n",
    "principal_components = pca.fit_transform(standardized_data)\n",
    "X_train, X_test, y_train, y_test = train_test_split(principal_components, y, test_size=0.3, random_state=0)"
   ]
  },
  {
   "cell_type": "code",
   "execution_count": 43,
   "id": "ec372c15",
   "metadata": {},
   "outputs": [
    {
     "data": {
      "text/plain": [
       "Pipeline(steps=[('standardscaler', StandardScaler()),\n",
       "                ('svc', SVC(gamma='auto'))])"
      ]
     },
     "execution_count": 43,
     "metadata": {},
     "output_type": "execute_result"
    }
   ],
   "source": [
    "clf = make_pipeline(StandardScaler(), SVC(gamma='auto'))\n",
    "clf.fit(X_train, y_train)"
   ]
  },
  {
   "cell_type": "code",
   "execution_count": 44,
   "id": "b3f57c5c",
   "metadata": {},
   "outputs": [
    {
     "data": {
      "text/plain": [
       "0.6102987921169739"
      ]
     },
     "execution_count": 44,
     "metadata": {},
     "output_type": "execute_result"
    }
   ],
   "source": [
    "y_pred = clf.predict(X_test)\n",
    "\n",
    "print(\"Classification Report:\\n\", classification_report(y_test, y_pred))\n",
    "print(\"Confusion Matrix:\\n\", confusion_matrix(y_test, y_pred))\n",
    "print(\"Accuracy:\", accuracy_score(y_test, y_pred))"
   ]
  },
  {
   "cell_type": "code",
   "execution_count": null,
   "id": "91067d45",
   "metadata": {},
   "outputs": [],
   "source": []
  }
 ],
 "metadata": {
  "colab": {
   "machine_shape": "hm",
   "provenance": []
  },
  "gpuClass": "standard",
  "kernelspec": {
   "display_name": "Python 3 (ipykernel)",
   "language": "python",
   "name": "python3"
  },
  "language_info": {
   "codemirror_mode": {
    "name": "ipython",
    "version": 3
   },
   "file_extension": ".py",
   "mimetype": "text/x-python",
   "name": "python",
   "nbconvert_exporter": "python",
   "pygments_lexer": "ipython3",
   "version": "3.9.7"
  }
 },
 "nbformat": 4,
 "nbformat_minor": 5
}
