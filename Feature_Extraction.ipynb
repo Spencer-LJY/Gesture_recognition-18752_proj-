{
 "cells": [
  {
   "cell_type": "code",
   "execution_count": 40,
   "id": "e652bf90",
   "metadata": {},
   "outputs": [],
   "source": [
    "import pandas as pd\n",
    "import numpy as np\n",
    "import seaborn as sns\n",
    "from sklearn.preprocessing import StandardScaler\n",
    "import matplotlib.pyplot as plt\n",
    "import os\n",
    "from PIL import Image\n",
    "import tensorflow as tf\n",
    "from sklearn import decomposition"
   ]
  },
  {
   "cell_type": "code",
   "execution_count": null,
   "id": "89fd5f90",
   "metadata": {},
   "outputs": [],
   "source": [
    "\n"
   ]
  },
  {
   "cell_type": "code",
   "execution_count": 21,
   "id": "289d9ec8",
   "metadata": {},
   "outputs": [],
   "source": [
    "labels =  ['call_me', 'fingers_crossed', 'okay', 'paper', 'peace', 'rock', 'rock_on', 'scissor', 'thumbs', 'up']"
   ]
  },
  {
   "cell_type": "code",
   "execution_count": 29,
   "id": "38460a54",
   "metadata": {},
   "outputs": [],
   "source": [
    "images = []\n",
    "train_labels = []\n",
    "for label_name in labels:\n",
    "    folder_path = 'datasets/HandGesture/images/' + label_name\n",
    "    for filename in os.listdir(folder_path):\n",
    "        img = Image.open(os.path.join(folder_path, filename))\n",
    "        if img.mode != 'L':\n",
    "            img = img.convert('L')\n",
    "        img_arr = np.array(img)\n",
    "        images.append(img_arr)\n",
    "        train_labels.append(label_name)\n",
    "train_images = np.array(images)"
   ]
  },
  {
   "cell_type": "code",
   "execution_count": 31,
   "id": "98ca5c66",
   "metadata": {},
   "outputs": [],
   "source": [
    "X = train_images.reshape(train_images.shape[0], -1)"
   ]
  },
  {
   "cell_type": "code",
   "execution_count": 33,
   "id": "ea8c8212",
   "metadata": {},
   "outputs": [
    {
     "data": {
      "text/plain": [
       "(5243, 46800)"
      ]
     },
     "execution_count": 33,
     "metadata": {},
     "output_type": "execute_result"
    }
   ],
   "source": [
    "X.shape"
   ]
  },
  {
   "cell_type": "code",
   "execution_count": 34,
   "id": "a5ea8452",
   "metadata": {},
   "outputs": [
    {
     "data": {
      "text/plain": [
       "(5243, 195, 240)"
      ]
     },
     "execution_count": 34,
     "metadata": {},
     "output_type": "execute_result"
    }
   ],
   "source": [
    "train_images.shape"
   ]
  },
  {
   "cell_type": "markdown",
   "id": "94f88549",
   "metadata": {},
   "source": [
    "# Feature Extraction using PCA"
   ]
  },
  {
   "cell_type": "code",
   "execution_count": 38,
   "id": "74a09602",
   "metadata": {},
   "outputs": [
    {
     "data": {
      "text/plain": [
       "(5243, 46800)"
      ]
     },
     "execution_count": 38,
     "metadata": {},
     "output_type": "execute_result"
    }
   ],
   "source": [
    "standardized_scalar = StandardScaler()\n",
    "standardized_data = standardized_scalar.fit_transform(X)\n",
    "standardized_data.shape"
   ]
  },
  {
   "cell_type": "code",
   "execution_count": 39,
   "id": "352038a3",
   "metadata": {},
   "outputs": [
    {
     "data": {
      "text/plain": [
       "(46800, 46800)"
      ]
     },
     "execution_count": 39,
     "metadata": {},
     "output_type": "execute_result"
    }
   ],
   "source": [
    "cov_matrix = np.matmul(standardized_data.T, standardized_data)\n",
    "cov_matrix.shape"
   ]
  },
  {
   "cell_type": "code",
   "execution_count": null,
   "id": "1b58374e",
   "metadata": {},
   "outputs": [],
   "source": []
  }
 ],
 "metadata": {
  "kernelspec": {
   "display_name": "Python 3 (ipykernel)",
   "language": "python",
   "name": "python3"
  },
  "language_info": {
   "codemirror_mode": {
    "name": "ipython",
    "version": 3
   },
   "file_extension": ".py",
   "mimetype": "text/x-python",
   "name": "python",
   "nbconvert_exporter": "python",
   "pygments_lexer": "ipython3",
   "version": "3.9.7"
  }
 },
 "nbformat": 4,
 "nbformat_minor": 5
}
