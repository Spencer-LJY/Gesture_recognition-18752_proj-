{
 "cells": [
  {
   "cell_type": "code",
   "execution_count": 1,
   "id": "e652bf90",
   "metadata": {},
   "outputs": [],
   "source": [
    "import pandas as pd\n",
    "import numpy as np\n",
    "import seaborn as sns\n",
    "from sklearn.preprocessing import StandardScaler\n",
    "import matplotlib.pyplot as plt\n",
    "import os\n",
    "from PIL import Image\n",
    "import tensorflow as tf\n",
    "from sklearn import decomposition"
   ]
  },
  {
   "cell_type": "code",
   "execution_count": null,
   "id": "89fd5f90",
   "metadata": {},
   "outputs": [],
   "source": [
    "\n"
   ]
  },
  {
   "cell_type": "code",
   "execution_count": 2,
   "id": "289d9ec8",
   "metadata": {},
   "outputs": [],
   "source": [
    "labels =  ['call_me', 'fingers_crossed', 'okay', 'paper', 'peace', 'rock', 'rock_on', 'scissor', 'thumbs', 'up']"
   ]
  },
  {
   "cell_type": "code",
   "execution_count": 3,
   "id": "38460a54",
   "metadata": {},
   "outputs": [],
   "source": [
    "images = []\n",
    "train_labels = []\n",
    "for label_name in labels:\n",
    "    folder_path = 'datasets/HandGesture/images/' + label_name\n",
    "    for filename in os.listdir(folder_path):\n",
    "        img = Image.open(os.path.join(folder_path, filename))\n",
    "        if img.mode != 'L':\n",
    "            img = img.convert('L')\n",
    "        img_arr = np.array(img)\n",
    "        images.append(img_arr)\n",
    "        train_labels.append(label_name)\n",
    "train_images = np.array(images)"
   ]
  },
  {
   "cell_type": "code",
   "execution_count": 4,
   "id": "98ca5c66",
   "metadata": {},
   "outputs": [],
   "source": [
    "X = train_images.reshape(train_images.shape[0], -1)"
   ]
  },
  {
   "cell_type": "code",
   "execution_count": 5,
   "id": "ea8c8212",
   "metadata": {},
   "outputs": [
    {
     "data": {
      "text/plain": [
       "(5243, 46800)"
      ]
     },
     "execution_count": 5,
     "metadata": {},
     "output_type": "execute_result"
    }
   ],
   "source": [
    "X.shape"
   ]
  },
  {
   "cell_type": "code",
   "execution_count": 6,
   "id": "a5ea8452",
   "metadata": {},
   "outputs": [
    {
     "data": {
      "text/plain": [
       "(5243, 195, 240)"
      ]
     },
     "execution_count": 6,
     "metadata": {},
     "output_type": "execute_result"
    }
   ],
   "source": [
    "train_images.shape"
   ]
  },
  {
   "cell_type": "markdown",
   "id": "94f88549",
   "metadata": {},
   "source": [
    "# Feature Extraction using PCA"
   ]
  },
  {
   "cell_type": "code",
   "execution_count": 7,
   "id": "74a09602",
   "metadata": {},
   "outputs": [
    {
     "data": {
      "text/plain": [
       "(5243, 46800)"
      ]
     },
     "execution_count": 7,
     "metadata": {},
     "output_type": "execute_result"
    }
   ],
   "source": [
    "standardized_scalar = StandardScaler()\n",
    "standardized_data = standardized_scalar.fit_transform(X)\n",
    "standardized_data.shape"
   ]
  },
  {
   "cell_type": "code",
   "execution_count": 8,
   "id": "352038a3",
   "metadata": {},
   "outputs": [
    {
     "data": {
      "text/plain": [
       "(46800, 46800)"
      ]
     },
     "execution_count": 8,
     "metadata": {},
     "output_type": "execute_result"
    }
   ],
   "source": [
    "cov_matrix = np.matmul(standardized_data.T, standardized_data)\n",
    "cov_matrix.shape"
   ]
  },
  {
   "cell_type": "code",
   "execution_count": 12,
   "id": "1b58374e",
   "metadata": {},
   "outputs": [],
   "source": [
    "pca = decomposition.PCA(n_components = 2)\n",
    "principal_components = pca.fit_transform(standardized_data)"
   ]
  },
  {
   "cell_type": "code",
   "execution_count": 13,
   "id": "cd743d69",
   "metadata": {},
   "outputs": [
    {
     "data": {
      "image/png": "[encoded data removed]",
      "text/plain": [
       "<Figure size 720x720 with 1 Axes>"
      ]
     },
     "metadata": {
      "needs_background": "light"
     },
     "output_type": "display_data"
    }
   ],
   "source": [
    "plt.figure(figsize=(10, 10))\n",
    "\n",
    "colors = plt.cm.tab10(np.linspace(0, 1, len(labels)))\n",
    "\n",
    "for label, color in zip(labels, colors):\n",
    "    indices = [i for i, l in enumerate(labels) if l == label]\n",
    "    plt.scatter(principal_components[indices, 0], principal_components[indices, 1], \n",
    "                c=[color], label=label, edgecolors='k', alpha=0.8)\n",
    "\n",
    "plt.xlabel('First Principal Component')\n",
    "plt.ylabel('Second Principal Component')\n",
    "plt.legend(loc='best')\n",
    "plt.tight_layout()\n",
    "plt.show()"
   ]
  },
  {
   "cell_type": "code",
   "execution_count": null,
   "id": "4c113404",
   "metadata": {},
   "outputs": [],
   "source": []
  }
 ],
 "metadata": {
  "kernelspec": {
   "display_name": "Python 3 (ipykernel)",
   "language": "python",
   "name": "python3"
  },
  "language_info": {
   "codemirror_mode": {
    "name": "ipython",
    "version": 3
   },
   "file_extension": ".py",
   "mimetype": "text/x-python",
   "name": "python",
   "nbconvert_exporter": "python",
   "pygments_lexer": "ipython3",
   "version": "3.9.7"
  }
 },
 "nbformat": 4,
 "nbformat_minor": 5
}
