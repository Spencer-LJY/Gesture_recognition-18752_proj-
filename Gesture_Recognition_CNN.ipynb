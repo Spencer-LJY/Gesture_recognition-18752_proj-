{
  "nbformat": 4,
  "nbformat_minor": 0,
  "metadata": {
    "colab": {
      "provenance": []
    },
    "kernelspec": {
      "name": "python3",
      "display_name": "Python 3"
    },
    "language_info": {
      "name": "python"
    },
    "accelerator": "GPU",
    "gpuClass": "standard"
  },
  "cells": [
    {
      "cell_type": "code",
      "source": [
        "!unzip /content/data/HandGesture.zip"
      ],
      "metadata": {
        "id": "YYzsXoPy5hi7"
      },
      "execution_count": null,
      "outputs": []
    },
    {
      "cell_type": "code",
      "source": [
        "!unzip /content/data/TestImages.zip"
      ],
      "metadata": {
        "colab": {
          "base_uri": "https://localhost:8080/"
        },
        "id": "qRHIlCzkIgTq",
        "outputId": "453e97f2-55d9-4d6a-b23e-e7f7fc27a193"
      },
      "execution_count": 138,
      "outputs": [
        {
          "output_type": "stream",
          "name": "stdout",
          "text": [
            "Archive:  /content/data/TestImages.zip\n",
            "  inflating: Test Images/img_2.png   \n",
            "  inflating: Test Images/img_0.png   \n",
            "  inflating: Test Images/img_1.png   \n",
            "  inflating: Test Images/img_3.png   \n"
          ]
        }
      ]
    },
    {
      "cell_type": "code",
      "execution_count": 128,
      "metadata": {
        "colab": {
          "base_uri": "https://localhost:8080/"
        },
        "id": "cVkW1eaIopB_",
        "outputId": "2e0e3541-d5f6-47f6-dfa9-e60e613ba8d5"
      },
      "outputs": [
        {
          "output_type": "stream",
          "name": "stdout",
          "text": [
            "Model: \"sequential_9\"\n",
            "_________________________________________________________________\n",
            " Layer (type)                Output Shape              Param #   \n",
            "=================================================================\n",
            " conv2d_20 (Conv2D)          (None, 96, 116, 64)       1664      \n",
            "                                                                 \n",
            " batch_normalization_20 (Bat  (None, 96, 116, 64)      256       \n",
            " chNormalization)                                                \n",
            "                                                                 \n",
            " max_pooling2d_20 (MaxPoolin  (None, 48, 58, 64)       0         \n",
            " g2D)                                                            \n",
            "                                                                 \n",
            " dropout_29 (Dropout)        (None, 48, 58, 64)        0         \n",
            "                                                                 \n",
            " conv2d_21 (Conv2D)          (None, 44, 54, 64)        102464    \n",
            "                                                                 \n",
            " batch_normalization_21 (Bat  (None, 44, 54, 64)       256       \n",
            " chNormalization)                                                \n",
            "                                                                 \n",
            " max_pooling2d_21 (MaxPoolin  (None, 22, 27, 64)       0         \n",
            " g2D)                                                            \n",
            "                                                                 \n",
            " dropout_30 (Dropout)        (None, 22, 27, 64)        0         \n",
            "                                                                 \n",
            " conv2d_22 (Conv2D)          (None, 18, 23, 64)        102464    \n",
            "                                                                 \n",
            " batch_normalization_22 (Bat  (None, 18, 23, 64)       256       \n",
            " chNormalization)                                                \n",
            "                                                                 \n",
            " max_pooling2d_22 (MaxPoolin  (None, 9, 11, 64)        0         \n",
            " g2D)                                                            \n",
            "                                                                 \n",
            " dropout_31 (Dropout)        (None, 9, 11, 64)         0         \n",
            "                                                                 \n",
            " flatten_9 (Flatten)         (None, 6336)              0         \n",
            "                                                                 \n",
            " dense_18 (Dense)            (None, 128)               811136    \n",
            "                                                                 \n",
            " dropout_32 (Dropout)        (None, 128)               0         \n",
            "                                                                 \n",
            " dense_19 (Dense)            (None, 10)                1290      \n",
            "                                                                 \n",
            "=================================================================\n",
            "Total params: 1,019,786\n",
            "Trainable params: 1,019,402\n",
            "Non-trainable params: 384\n",
            "_________________________________________________________________\n"
          ]
        }
      ],
      "source": [
        "import keras\n",
        "from keras.datasets import mnist\n",
        "from keras.models import Sequential\n",
        "from keras.layers import Dense, Dropout, Flatten, BatchNormalization\n",
        "from keras.layers import Activation, Dropout\n",
        "from keras.layers import Conv2D, MaxPooling2D\n",
        "from keras import backend as K\n",
        "from keras.optimizers import Adam\n",
        "\n",
        "model = Sequential()\n",
        "\n",
        "# First conv layer\n",
        "model.add(Conv2D(64, kernel_size=(5, 5), activation='relu', input_shape=(100,120, 1))) \n",
        "model.add(BatchNormalization())\n",
        "model.add(MaxPooling2D(pool_size=(2, 2)))\n",
        "model.add(Dropout(0.25))\n",
        "\n",
        "# Second conv layer\n",
        "model.add(Conv2D(64, kernel_size=(5, 5), activation='relu'))\n",
        "model.add(BatchNormalization())\n",
        "model.add(MaxPooling2D(pool_size=(2, 2)))\n",
        "model.add(Dropout(0.25))\n",
        "\n",
        "# Thrid conv layer\n",
        "model.add(Conv2D(64, kernel_size=(5, 5), activation='relu'))\n",
        "model.add(BatchNormalization())\n",
        "model.add(MaxPooling2D(pool_size=(2, 2)))\n",
        "model.add(Dropout(0.25))\n",
        "\n",
        "# Flatten\n",
        "model.add(Flatten())\n",
        "model.add(Dense(128, activation='relu')) \n",
        "model.add(Dropout(0.5))\n",
        "\n",
        "# Softmax \n",
        "model.add(Dense(10, activation='softmax'))\n",
        "\n",
        "\n",
        "optimiser = Adam() \n",
        "model.compile(optimizer=optimiser, loss='categorical_crossentropy', metrics=['categorical_accuracy'])\n",
        "model.summary()\n"
      ]
    },
    {
      "cell_type": "code",
      "source": [
        "import os\n",
        "import glob\n",
        "\n",
        "# Load dataset\n",
        "DATASET_PATH = '/content/HandGesture/images'\n",
        "\n",
        "dataset_path = os.path.join(DATASET_PATH, '*')\n",
        "dataset_path = glob.glob(dataset_path)\n"
      ],
      "metadata": {
        "id": "WGjGMGTEo7Hw"
      },
      "execution_count": 129,
      "outputs": []
    },
    {
      "cell_type": "code",
      "source": [
        "input_images = []\n",
        "\n",
        "gestures_list = ['call_me', 'fingers_crossed', 'okay', 'paper', 'peace', 'rock', 'rock_on', 'scissor', 'thumbs', 'up']\n",
        "\n",
        "for p in range(len(dataset_path)):\n",
        "\n",
        "    print(gestures_list[p])\n",
        "\n",
        "    dataset_path1 = \"/content/HandGesture/images/\" + str(gestures_list[p])\n",
        "    gesture_path = os.path.join(dataset_path1, '*')\n",
        "\n",
        "    g_path = glob.glob(gesture_path)\n",
        "    k = 0\n",
        "    for i in range(0, len(g_path)):\n",
        "        if k < 1600:\n",
        "            image = cv2.imread(g_path[i])\n",
        "            gray_image = cv2.cvtColor(image, cv2.COLOR_BGR2GRAY)\n",
        "            gray_image = cv2.resize(gray_image,(100, 120))\n",
        "            input_images.append(gray_image)\n",
        "        k+=1\n",
        "\n",
        "print(len(input_images))\n",
        "\n",
        "labels = []\n",
        "for i in range(527):\n",
        "    labels.append([1, 0, 0, 0, 0, 0, 0, 0, 0, 0])\n",
        "\n",
        "for i in range(504):\n",
        "    labels.append([0, 1, 0, 0, 0, 0, 0, 0, 0, 0])\n",
        "\n",
        "for i in range(540):\n",
        "    labels.append([0, 0, 1, 0, 0, 0, 0, 0, 0, 0])\n",
        "    \n",
        "for i in range(539):\n",
        "    labels.append([0, 0, 0, 1, 0, 0, 0, 0, 0, 0])\n",
        "    \n",
        "for i in range(526):\n",
        "    labels.append([0, 0, 0, 0, 1, 0, 0, 0, 0, 0])\n",
        "\n",
        "for i in range(508):\n",
        "    labels.append([0, 0, 0, 0, 0, 1, 0, 0, 0, 0])\n",
        "\n",
        "for i in range(531):\n",
        "    labels.append([0, 0, 0, 0, 0, 0, 1, 0, 0, 0])\n",
        "\n",
        "for i in range(527):\n",
        "    labels.append([0, 0, 0, 0, 0, 0, 0, 1, 0, 0])\n",
        "    \n",
        "for i in range(537):\n",
        "    labels.append([0, 0, 0, 0, 0, 0, 0, 0, 1, 0])\n",
        "    \n",
        "for i in range(504):\n",
        "    labels.append([0, 0, 0, 0, 0, 0, 0, 0, 0, 1])\n",
        "\n",
        "\n",
        "print(len(labels))"
      ],
      "metadata": {
        "colab": {
          "base_uri": "https://localhost:8080/"
        },
        "id": "V1ZsjCYnpoih",
        "outputId": "ddbc0eac-c7a1-4d59-9713-6b53e6bfdcca"
      },
      "execution_count": 145,
      "outputs": [
        {
          "output_type": "stream",
          "name": "stdout",
          "text": [
            "call_me\n",
            "fingers_crossed\n",
            "okay\n",
            "paper\n",
            "peace\n",
            "rock\n",
            "rock_on\n",
            "scissor\n",
            "thumbs\n",
            "up\n",
            "5243\n",
            "5243\n"
          ]
        }
      ]
    },
    {
      "cell_type": "code",
      "source": [
        "import numpy as np\n",
        "from sklearn.model_selection import train_test_split\n",
        "\n",
        "X = np.asarray(input_images)\n",
        "y = np.asarray(labels)\n",
        "print(X.shape)\n",
        "print(y.shape)"
      ],
      "metadata": {
        "colab": {
          "base_uri": "https://localhost:8080/"
        },
        "id": "RvsJrFRDzXzu",
        "outputId": "20ec4031-8fac-4bd9-8931-92ae5269916a"
      },
      "execution_count": 146,
      "outputs": [
        {
          "output_type": "stream",
          "name": "stdout",
          "text": [
            "(5243, 120, 100)\n",
            "(5243, 10)\n"
          ]
        }
      ]
    },
    {
      "cell_type": "code",
      "source": [
        "X_train, X_test, y_train, y_test = train_test_split(X, y, test_size=0.2, random_state=4)\n",
        "X_train = X_train.reshape(X_train.shape[0], 100, 120, 1)\n",
        "X_test = X_test.reshape(X_test.shape[0], 100, 120, 1)\n",
        "print(X_train.shape)\n",
        "print(X_test.shape)\n",
        "print(y_train.shape)\n",
        "print(y_test.shape)"
      ],
      "metadata": {
        "colab": {
          "base_uri": "https://localhost:8080/"
        },
        "id": "jMrpiLr4xQ_N",
        "outputId": "17fd8f58-8330-43f0-8cc7-7e0522b8e552"
      },
      "execution_count": 147,
      "outputs": [
        {
          "output_type": "stream",
          "name": "stdout",
          "text": [
            "(4194, 100, 120, 1)\n",
            "(1049, 100, 120, 1)\n",
            "(4194, 10)\n",
            "(1049, 10)\n"
          ]
        }
      ]
    },
    {
      "cell_type": "code",
      "source": [
        "model.fit(X_train, y_train, batch_size=128, epochs=10, verbose=1, validation_data=(X_test, y_test))"
      ],
      "metadata": {
        "colab": {
          "base_uri": "https://localhost:8080/"
        },
        "id": "EN97zauc1yeM",
        "outputId": "857da4bd-d89f-406a-dfdb-bce2c5fd29b7"
      },
      "execution_count": 148,
      "outputs": [
        {
          "output_type": "stream",
          "name": "stdout",
          "text": [
            "Epoch 1/10\n",
            "33/33 [==============================] - 4s 121ms/step - loss: 0.1758 - categorical_accuracy: 0.9433 - val_loss: 0.5156 - val_categorical_accuracy: 0.8961\n",
            "Epoch 2/10\n",
            "33/33 [==============================] - 4s 126ms/step - loss: 0.1766 - categorical_accuracy: 0.9378 - val_loss: 0.7975 - val_categorical_accuracy: 0.8665\n",
            "Epoch 3/10\n",
            "33/33 [==============================] - 4s 119ms/step - loss: 0.1898 - categorical_accuracy: 0.9435 - val_loss: 0.3105 - val_categorical_accuracy: 0.9428\n",
            "Epoch 4/10\n",
            "33/33 [==============================] - 4s 120ms/step - loss: 0.1440 - categorical_accuracy: 0.9506 - val_loss: 0.3171 - val_categorical_accuracy: 0.9514\n",
            "Epoch 5/10\n",
            "33/33 [==============================] - 4s 124ms/step - loss: 0.1147 - categorical_accuracy: 0.9633 - val_loss: 0.2877 - val_categorical_accuracy: 0.9561\n",
            "Epoch 6/10\n",
            "33/33 [==============================] - 4s 119ms/step - loss: 0.1182 - categorical_accuracy: 0.9609 - val_loss: 0.5598 - val_categorical_accuracy: 0.9113\n",
            "Epoch 7/10\n",
            "33/33 [==============================] - 4s 125ms/step - loss: 0.0903 - categorical_accuracy: 0.9680 - val_loss: 0.3605 - val_categorical_accuracy: 0.9485\n",
            "Epoch 8/10\n",
            "33/33 [==============================] - 4s 120ms/step - loss: 0.1094 - categorical_accuracy: 0.9628 - val_loss: 0.2396 - val_categorical_accuracy: 0.9552\n",
            "Epoch 9/10\n",
            "33/33 [==============================] - 4s 119ms/step - loss: 0.1041 - categorical_accuracy: 0.9669 - val_loss: 0.5911 - val_categorical_accuracy: 0.8875\n",
            "Epoch 10/10\n",
            "33/33 [==============================] - 4s 120ms/step - loss: 0.0803 - categorical_accuracy: 0.9738 - val_loss: 0.2326 - val_categorical_accuracy: 0.9561\n"
          ]
        },
        {
          "output_type": "execute_result",
          "data": {
            "text/plain": [
              "<keras.callbacks.History at 0x7f29195097b0>"
            ]
          },
          "metadata": {},
          "execution_count": 148
        }
      ]
    },
    {
      "cell_type": "code",
      "source": [
        "[loss, acc] = model.evaluate(X_test,y_test)\n",
        "print(\"Accuracy: \" + str(acc))"
      ],
      "metadata": {
        "colab": {
          "base_uri": "https://localhost:8080/"
        },
        "id": "y9dEHXO61yzk",
        "outputId": "be864a26-8aa1-49eb-9c94-fd677b5b21df"
      },
      "execution_count": 151,
      "outputs": [
        {
          "output_type": "stream",
          "name": "stdout",
          "text": [
            "33/33 [==============================] - 0s 11ms/step - loss: 0.2326 - categorical_accuracy: 0.9561\n",
            "Accuracy: 0.9561486840248108\n"
          ]
        }
      ]
    },
    {
      "cell_type": "code",
      "source": [
        "import cv2\n",
        "import matplotlib.pyplot as plt\n",
        "image = cv2.imread('/content/Test Images/img_0.png')\n",
        "image = cv2.resize(image,(100, 120))\n",
        "plt.imshow(cv2.cvtColor(image, cv2.COLOR_BGR2RGB))\n",
        "\n",
        "gray_image = cv2.cvtColor(image, cv2.COLOR_BGR2GRAY)\n",
        "gray_image = cv2.resize(gray_image, (100, 120))\n",
        "gray_image = gray_image.reshape(1, 100, 120, 1)\n",
        "\n",
        "pred = model.predict(gray_image)\n",
        "y = np.argmax(pred)\n",
        "print(\"Predict class:\",y)"
      ],
      "metadata": {
        "colab": {
          "base_uri": "https://localhost:8080/",
          "height": 469
        },
        "id": "Q0akJ1nQ5Opw",
        "outputId": "1121b079-d59b-41ce-c323-085c265bf5ad"
      },
      "execution_count": 152,
      "outputs": [
        {
          "output_type": "stream",
          "name": "stdout",
          "text": [
            "1/1 [==============================] - 0s 19ms/step\n",
            "Predict class: 3\n"
          ]
        },
        {
          "output_type": "display_data",
          "data": {
            "text/plain": [
              "<Figure size 640x480 with 1 Axes>"
            ],
            "image/png": "[encoded data removed]"
          },
          "metadata": {}
        }
      ]
    },
    {
      "cell_type": "code",
      "source": [],
      "metadata": {
        "id": "QNY9NCnXBR32"
      },
      "execution_count": null,
      "outputs": []
    }
  ]
}